{
 "cells": [
  {
   "cell_type": "markdown",
   "id": "bddcf421-a1cc-424f-9ec5-9e536e5b3c6a",
   "metadata": {
    "tags": []
   },
   "source": [
    "# <span style='color:blue'>Graphs ToDo  </span>"
   ]
  },
  {
   "cell_type": "markdown",
   "id": "c69b3076-5cfa-46c2-a6c8-010b2852043f",
   "metadata": {},
   "source": [
    "Add concavity principle to Graphs_General\n",
    "\n",
    "Add points of inflection to graphs general\n",
    "\n",
    "Any way I can combine all graphs in one notebook with dropdowns?\n",
    "\n",
    "Add amplitude, centre, period and phase to trig graphs (Year 12 ch 4)\n",
    "\n",
    "See curve sketching strategies Year 12 p 261 --> maybe add to graphs general\n",
    "\n",
    "Any way i can add arrows to tips of graphs?\n",
    "\n",
    "\n",
    "\n",
    "## Generalise in one notebook\n",
    "\n",
    "(started work in file 00_Graphs_Combined,ipynb)\n",
    " - x-intercepts\n",
    " - y-intercepts\n",
    " - stationary points (min, max, horizontal inflection)\n",
    " - inflection that is not horizontal\n",
    " - reflections = x-axis, y-axis, both\n",
    " - inverses\n",
    " - vertical translations\n",
    " - horizontal translations\n",
    " - vertical dilations\n",
    " - horizontal translations\n",
    " - period and amplitude of trig functions\n",
    " - domain\n",
    " - range\n",
    " - add ability to show max and min of a function such as acos and asin (see text books)\n",
    " - asymptotes or other discontinuities\n",
    " - limiting behaviour\n",
    " - Composite functions e.g. f(x) + g(x) or f(x).g(x)\n",
    " - Equation of a transformed function (and order) --> see page 65 year 12 book\n",
    " - single roots (cross x-axis), double roots (turn on x-axis), triple roots (cross x-axis but flatten on cross)\n",
    " - Recipricoal functions $\\dfrac{1}{f(x)}$\n",
    "  - Concavity and points of inflection (year 12 ch 6)\n",
    "  - Global and local maxima and minma\n",
    " \n",
    " ## Types of functions\n",
    " \n",
    "  - straight lines\n",
    "  - parabola\n",
    "  - hyperbola\n",
    "  - cube and higher power polynomials\n",
    "  - trig functions (inluding cosec, sec, cot)\n",
    "  - inverse trig functions\n",
    "  - exponential\n",
    "  - logs\n",
    "  - circles\n",
    "  - absolute values\n",
    "  - Currently the class only works for functions, is it worthwhile considering for items such as circle plots.  Could potentially break into 2 functions?"
   ]
  },
  {
   "cell_type": "code",
   "execution_count": null,
   "id": "b80a528d-2a06-4c09-b903-17838fbaa9a8",
   "metadata": {},
   "outputs": [],
   "source": []
  }
 ],
 "metadata": {
  "kernelspec": {
   "display_name": "Python 3 (ipykernel)",
   "language": "python",
   "name": "python3"
  },
  "language_info": {
   "codemirror_mode": {
    "name": "ipython",
    "version": 3
   },
   "file_extension": ".py",
   "mimetype": "text/x-python",
   "name": "python",
   "nbconvert_exporter": "python",
   "pygments_lexer": "ipython3",
   "version": "3.9.12"
  }
 },
 "nbformat": 4,
 "nbformat_minor": 5
}
