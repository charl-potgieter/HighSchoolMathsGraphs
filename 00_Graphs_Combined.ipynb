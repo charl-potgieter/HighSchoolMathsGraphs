{
 "cells": [
  {
   "cell_type": "markdown",
   "id": "512cd6f2-9151-482e-b1d4-dadeba0b223b",
   "metadata": {
    "tags": []
   },
   "source": [
    "#### TO DO\n",
    "\n",
    " - create this as a project on Github\n",
    " - Create an option to display trig x-ticks in degrees rather than radians, maybe change paramater show_x_ticks_in_pi_multiples to tick_mark_type\n",
    "  - maybe adjust only via matplotlib.axis.Axis.set_major_formatter and remove the adjustment currently in def _x_intercepts\n",
    "   - Change y_intercept process to be similar to x-interecepts\n",
    " - There is an issue with scale when the radians tick mark option is selected - need to also handle the discontinuities\n",
    " - https://www.w3schools.com/python/numpy/numpy_ufunc_trigonometric.asp\n",
    " - https://coderslegacy.com/python/trigonometric-functions-in-sympy/\n",
    " - Formatting plots in degrees https://techoverflow.net/2022/06/19/matplotlib-how-to-format-angle-in-degrees/\n",
    " - The issue is that the 0.5 is a float, rather than a sympy rational.  This works (tan(sp.Rational(1,2) * x) !\n"
   ]
  },
  {
   "cell_type": "code",
   "execution_count": 36,
   "id": "727045fa-195f-4870-8070-94c4dd9db2c8",
   "metadata": {},
   "outputs": [],
   "source": [
    "import matplotlib as mpl\n",
    "import math\n",
    "import matplotlib.pyplot as plt\n",
    "import numpy as np\n",
    "import sympy as sp\n",
    "plt.style.use('classic')\n",
    "%matplotlib inline"
   ]
  },
  {
   "cell_type": "code",
   "execution_count": 37,
   "id": "3795ba0b-737e-4f5b-9296-616a959c1d92",
   "metadata": {},
   "outputs": [],
   "source": [
    "class graph:\n",
    "    \n",
    "    # TODO -  just focus on getting this work on functions for now - think later about other plots like circles (which can potentially be broken up \n",
    "    # into a group functions\n",
    "    def __init__(self, graph_type='straight_line', fn = None, domain_from = -100, domain_to=100, points_to_plot = 1000, fig_width=10, fig_height=10, tick_mark_type='floats'):   \n",
    "        \n",
    "        if fn == None:\n",
    "            x = sp.symbols('x', real=True)\n",
    "            self.fn = x\n",
    "        else:            \n",
    "            self.fn = fn\n",
    "        \n",
    "        self.domain_from = domain_from\n",
    "        self.domain_to = domain_to\n",
    "        self.domain_set = sp.Interval(domain_from,domain_to)\n",
    "        self.points_to_plot = points_to_plot\n",
    "        self.fig_height = fig_height\n",
    "        self.fig_width = fig_width\n",
    "        self.tick_mark_type = tick_mark_type\n",
    "        self.x_intercepts_sympy_rationals = self._calc_x_intercepts_sympy_rationals()\n",
    "        self.x_intercepts_floats = self._calc_x_intercepts_floats()\n",
    "\n",
    "        \n",
    "    def _set_origin_spines(self, ax: plt.axes):\n",
    "        '''Creates axis at x=0 and y = 0'''\n",
    "\n",
    "        # making the top and right spine invisible:\n",
    "        ax.spines['top'].set_color('none')\n",
    "        ax.spines['right'].set_color('none')\n",
    "\n",
    "        # moving bottom spine up to y=0 position:\n",
    "        ax.xaxis.set_ticks_position('bottom')\n",
    "        ax.spines['bottom'].set_position(('data',0))\n",
    "\n",
    "        # moving left spine to the right to position x == 0:b\n",
    "        ax.yaxis.set_ticks_position('left')\n",
    "        ax.spines['left'].set_position(('data',0))\n",
    "\n",
    "\n",
    "    def _AddlegendInBbox(self, ax, x0=0,y0=0, pad=0.5,**kwargs):\n",
    "        '''Creates legend in a box for matplotlib'''\n",
    "        \n",
    "        # Adapted from here\n",
    "        # https://stackoverflow.com/questions/47539628/showing-legend-under-matplotlib-plot-with-varying-number-of-plots\n",
    "        otrans = ax.figure.transFigure\n",
    "        t = ax.legend(bbox_to_anchor=(x0,y0), loc='lower left', bbox_transform=otrans, frameon = False, fontsize='x-large', **kwargs)\n",
    "        #ax.figure.tight_layout(pad=pad)\n",
    "        ax.figure.canvas.draw()\n",
    "        tbox = t.get_window_extent().transformed( ax.figure.transFigure.inverted() )\n",
    "        bbox = ax.get_position()\n",
    "        ax.set_position([bbox.x0, bbox.y0+tbox.height,bbox.width, bbox.height-tbox.height])         \n",
    "        \n",
    "    def _discontinuities(self):\n",
    "        discontinuities = sp.singularities(self.fn, x)\n",
    "        discontinuities_in_domain = discontinuities.intersect(mygraph.domain_set)\n",
    "        sympy_list = list(discontinuities_in_domain)\n",
    "        float_list = [float(x) for x in sympy_list]\n",
    "        return (float_list)\n",
    "    \n",
    "    def _x_plots(self):\n",
    "        '''calc plot x-values'''\n",
    "        x_vals = np.linspace(self.domain_from, self.domain_to, self.points_to_plot)\n",
    "        \n",
    "        # applies mask for example to prevent lines being drawn joining discontinuous portions of hyperbola, tan etc\n",
    "        for discontinuity in self._discontinuities():        \n",
    "            first_value_after_discontinuity=next((x for x in x_vals if x >= discontinuity), None)\n",
    "            first_value_before_discontinuity=next((x for x in x_vals[::-1] if x < discontinuity), None)\n",
    "            # if first_value_before_discontinuity is not None and first_value_after_discontinuity is not None:\n",
    "            x_vals = np.ma.masked_where(\n",
    "                (x_vals == first_value_before_discontinuity) | (x_vals==first_value_after_discontinuity), \n",
    "                x_vals)    \n",
    "        \n",
    "        return (x_vals)\n",
    "    \n",
    "    def _y_plots(self):\n",
    "        '''calc plot y-values'''\n",
    "        fn_lambdify = sp.lambdify(x, self.fn)\n",
    "        return(fn_lambdify(self._x_plots()))\n",
    "        \n",
    "    def _y_intercepts(self):\n",
    "        # TO DO need to restrict to domain\n",
    "        # Check for cases such as 1/x where subsituting x for zero does not yield an intersect\n",
    "        if self.fn.subs(x, 0) == sp.S.ComplexInfinity:\n",
    "            return []\n",
    "        else:\n",
    "            return ([float(self.fn.subs(x, 0) )])\n",
    "    \n",
    "    \n",
    "    def _calc_x_intercepts_sympy_rationals(self):\n",
    "        return(list(sp.solveset(self.fn,x, domain=self.domain_set)))        \n",
    "        return(return_value)\n",
    "\n",
    "    \n",
    "    def _calc_x_intercepts_floats(self):\n",
    "        return_value = [float(x) for x in self.x_intercepts_sympy_rationals]\n",
    "        return(return_value)\n",
    "    \n",
    " \n",
    "    def _format_tick_mark(self, value, tick_number):\n",
    "        '''Formats tick mark using the latex values of the x-intercepts in the sympy number format'''\n",
    "        latex_equivalent = sp.latex(self.x_intercepts_sympy_rationals[tick_number])\n",
    "        #use dfrac rather than frac to ensure raction characters are full size\n",
    "        latex_equivalent = latex_equivalent.replace('frac', 'dfrac')         \n",
    "        return (\"$\"  + latex_equivalent + \"$\")\n",
    "        \n",
    "    \n",
    "    def display(self):\n",
    "        '''Plot the graph with matplotlib'''\n",
    "\n",
    "        fig = plt.figure()\n",
    "        ax = plt.axes()\n",
    "        self._set_origin_spines(ax)\n",
    "\n",
    "    \n",
    "        x_vals = self._x_plots()\n",
    "        y_vals = self._y_plots()\n",
    "        ax.plot(x_vals, y_vals , label = 'TBA', color = 'blue')\n",
    "\n",
    "        ax.set(\n",
    "            xlim = (-10, 10),  #TODO\n",
    "            ylim = (-10,10),   # TODO\n",
    "            xticks = self.x_intercepts_floats,\n",
    "            yticks = self._y_intercepts()  # TODO will I ever want to display yticks in pi multiples\n",
    "        )\n",
    "        \n",
    "        \n",
    "        # ax.xaxis.set_major_formatter(plt.FuncFormatter(self._format_multiples_of_pi))\n",
    "        ax.xaxis.set_major_formatter(plt.FuncFormatter(self._format_tick_mark))\n",
    "            \n",
    "        # ax.legend(loc='upper right', frameon=False, fontsize='x-large')\n",
    "        self._AddlegendInBbox(ax, borderaxespad=5)\n",
    "\n",
    "        fig.set_size_inches(self.fig_width,self.fig_height)\n"
   ]
  },
  {
   "cell_type": "code",
   "execution_count": 53,
   "id": "f1096d16-5d1d-4556-bcc5-cc9ef377cebe",
   "metadata": {},
   "outputs": [
    {
     "data": {
      "image/png": "[encoded data removed]",
      "text/plain": [
       "<Figure size 720x720 with 1 Axes>"
      ]
     },
     "metadata": {
      "needs_background": "light"
     },
     "output_type": "display_data"
    }
   ],
   "source": [
    "x = sp.symbols('x', real=True)\n",
    "# mygraph = graph(fn=-2*x**2 + 5*x + 7)\n",
    "# mygraph = graph(fn=sp.sin(x))\n",
    "# mygraph = graph(fn = 2*x-5)\n",
    "# mygraph = graph(fn = 1/(x+1), domain_from=-10, domain_to=10, points_to_plot=1000)\n",
    "# mygraph = graph(fn=sp.tan(x), domain_from=-10, domain_to=10, points_to_plot=1000, tick_mark_type = 'radians')\n",
    "# mygraph = graph(fn=sp.tan(sp.Rational(1,2) * x), domain_from=-10, domain_to=10, points_to_plot=1000, tick_mark_type = 'radians')\n",
    "mygraph = graph(fn=5*sp.cos(sp.Rational(1,2) * x), domain_from=-10, domain_to=10, points_to_plot=1000, tick_mark_type = 'radians')\n",
    "# mygraph = graph(fn=sp.Abs(x-3)-2, domain_from=-10, domain_to=10)\n",
    "# mygraph = graph(fn = 5**(-x)-7)\n",
    "# mygraph = graph(fn=5 * sp.cos(x), domain_from=-10, domain_to=10, points_to_plot=1000, tick_mark_type = 'radians')\n",
    "\n",
    "mygraph.display()"
   ]
  },
  {
   "cell_type": "code",
   "execution_count": 43,
   "id": "e66cbbac-07ab-4b77-b231-c665a0b4d7ef",
   "metadata": {},
   "outputs": [
    {
     "data": {
      "text/plain": [
       "[-1, 7/2]"
      ]
     },
     "execution_count": 43,
     "metadata": {},
     "output_type": "execute_result"
    }
   ],
   "source": [
    "mygraph.x_intercepts_sympy_rationals"
   ]
  },
  {
   "cell_type": "code",
   "execution_count": 40,
   "id": "25583e84-008b-453a-9cc8-62fd828eb536",
   "metadata": {},
   "outputs": [
    {
     "data": {
      "text/plain": [
       "'- \\\\frac{5 \\\\pi}{2}'"
      ]
     },
     "execution_count": 40,
     "metadata": {},
     "output_type": "execute_result"
    }
   ],
   "source": [
    "solution_list = list(sp.solveset(mygraph.fn,x, domain=mygraph.domain_set))\n",
    "first_item = solution_list[0]\n",
    "# type(sp.print_latex(first_item))\n",
    "sp.latex((first_item))"
   ]
  },
  {
   "cell_type": "code",
   "execution_count": 41,
   "id": "bff905f7-244d-44fe-ac15-3310ee019200",
   "metadata": {},
   "outputs": [
    {
     "data": {
      "text/plain": [
       "'help'"
      ]
     },
     "execution_count": 41,
     "metadata": {},
     "output_type": "execute_result"
    }
   ],
   "source": [
    "'hoolp'.replace('oo', 'e')"
   ]
  }
 ],
 "metadata": {
  "kernelspec": {
   "display_name": "Python 3 (ipykernel)",
   "language": "python",
   "name": "python3"
  },
  "language_info": {
   "codemirror_mode": {
    "name": "ipython",
    "version": 3
   },
   "file_extension": ".py",
   "mimetype": "text/x-python",
   "name": "python",
   "nbconvert_exporter": "python",
   "pygments_lexer": "ipython3",
   "version": "3.9.12"
  }
 },
 "nbformat": 4,
 "nbformat_minor": 5
}
